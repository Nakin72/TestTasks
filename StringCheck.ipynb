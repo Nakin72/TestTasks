{
 "cells": [
  {
   "cell_type": "code",
   "execution_count": 26,
   "metadata": {},
   "outputs": [
    {
     "name": "stdout",
     "output_type": "stream",
     "text": [
      "True\n"
     ]
    }
   ],
   "source": [
    "ss = input() #Вводим строку\n",
    "\n",
    "def is_valid(s):\n",
    "    stack = [] # создаем стек, который будет использоваться для проверки вложенности скобок \n",
    "               # в него добавляются открывающие скобки\n",
    "   # создаем набор скобок где каждому виду закрывающих скобок будет соответсвовать открывающая\n",
    "    mapping = {\")\": \"(\", # круглые\n",
    "               \"}\": \"{\", # фигурные\n",
    "               \"]\": \"[\"} # квадратные\n",
    "    \n",
    "    for char in s: # Запускаем обработку строки для каждого символа в этой строке\n",
    "\n",
    "        if char in mapping: #Условие: если считанный символ это закрывающая скобка\n",
    "            top_element = stack.pop() if stack else '#'  # убираем последний добавленный элемент из стека \n",
    "                                                         # при условии что стек имеет данные, иначе заменяем на символ '#'\n",
    "            \n",
    "            \n",
    "            if mapping[char] != top_element: # если открывающая скобка, соответсвующая считанному символу, не равна последнему добавленному элементу, то возвращаем False\n",
    "                return False\n",
    "        else: # Если считанный символ соответствует символу \"открывающей\" скобки то добавляем его в стэк\n",
    "            stack.append(char)\n",
    "            \n",
    "    #Возвращаем значение противоположное Стэку    \n",
    "    #В строке return not stack, \n",
    "    #stack примет значение false если он пустой (что является целью функции) и из-за оператора not примет противоположное значение (то есть True)    \n",
    "    return not stack\n",
    "\n",
    "print(is_valid(ss))#Выводим результат работы функции\n",
    "#True если строка правильная\n",
    "#False если строка не правильная \n",
    "# () Вывод: true\n",
    "\n",
    "# ()[]{} Вывод: true\n",
    "\n",
    "# (] Вывод: false\n",
    "\n",
    "# ([)] Вывод: false\n",
    "\n",
    "# {[]} Вывод: true"
   ]
  },
  {
   "cell_type": "code",
   "execution_count": null,
   "metadata": {},
   "outputs": [],
   "source": []
  }
 ],
 "metadata": {
  "kernelspec": {
   "display_name": "base",
   "language": "python",
   "name": "python3"
  },
  "language_info": {
   "codemirror_mode": {
    "name": "ipython",
    "version": 3
   },
   "file_extension": ".py",
   "mimetype": "text/x-python",
   "name": "python",
   "nbconvert_exporter": "python",
   "pygments_lexer": "ipython3",
   "version": "3.11.5"
  }
 },
 "nbformat": 4,
 "nbformat_minor": 2
}
